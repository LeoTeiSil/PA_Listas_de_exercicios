{
  "nbformat": 4,
  "nbformat_minor": 0,
  "metadata": {
    "colab": {
      "provenance": [],
      "include_colab_link": true
    },
    "kernelspec": {
      "name": "python3",
      "display_name": "Python 3"
    },
    "language_info": {
      "name": "python"
    }
  },
  "cells": [
    {
      "cell_type": "markdown",
      "metadata": {
        "id": "view-in-github",
        "colab_type": "text"
      },
      "source": [
        "<a href=\"https://colab.research.google.com/github/LeoTeiSil/PA_Listas_de_exercicios/blob/main/Exercicio_LISTAS_PA.ipynb\" target=\"_parent\"><img src=\"https://colab.research.google.com/assets/colab-badge.svg\" alt=\"Open In Colab\"/></a>"
      ]
    },
    {
      "cell_type": "markdown",
      "source": [
        "# **Exercícios PA_Listas-Tuplas-Dicionarios - ALUNOS**\n",
        "##Exercício 1: Manipulação de Listas\n",
        "\n",
        "- Defina uma lista com 5 nomes de cidades.\n",
        "- Adicione uma nova cidade ao final da lista.\n",
        "- Remova a segunda cidade da lista.\n",
        "- Imprima a lista resultante."
      ],
      "metadata": {
        "id": "Y_YJtHALyD7j"
      }
    },
    {
      "cell_type": "code",
      "source": [
        "# seu código aqui...\n",
        "cidades = [\"Máua\", \"Ribeirão Pires\", \"Santo André\", \"São Paulo\", \"São Bernado do Campo\"]\n",
        "print(cidades)\n",
        "cidades.append(input(\"Digite uma cidade para adicionar: \"))\n",
        "print(cidades)\n",
        "cidades.remove(input(\"Digite uma cidade para remover: \"))\n",
        "print(cidades)"
      ],
      "metadata": {
        "id": "F7PpZmzsyJkj",
        "colab": {
          "base_uri": "https://localhost:8080/"
        },
        "outputId": "d4d844b4-33b9-4b72-ccfd-65ffeccc2bb2"
      },
      "execution_count": null,
      "outputs": [
        {
          "output_type": "stream",
          "name": "stdout",
          "text": [
            "['Máua', 'Ribeirão Pires', 'Santo André', 'São Paulo', 'São Bernado do Campo']\n",
            "Digite uma cidade para adicionar: Rio grande\n",
            "['Máua', 'Ribeirão Pires', 'Santo André', 'São Paulo', 'São Bernado do Campo', 'Rio grande']\n",
            "Digite uma cidade para remover: Máua\n",
            "['Ribeirão Pires', 'Santo André', 'São Paulo', 'São Bernado do Campo', 'Rio grande']\n"
          ]
        }
      ]
    },
    {
      "cell_type": "markdown",
      "source": [
        "##Exercício 2: Operações com Tuplas\n",
        "\n",
        "- Defina uma tupla com 4 cores.\n",
        "- Crie uma nova tupla que seja a concatenação da tupla original com outra contendo mais 2 cores.\n",
        "- Imprima a nova tupla."
      ],
      "metadata": {
        "id": "chLTYNQGyUrj"
      }
    },
    {
      "cell_type": "code",
      "source": [
        "# seu código aqui...\n",
        "cores = ('vermelho', 'azul', 'verde', 'amarelo')\n",
        "print(cores)\n",
        "AddCores = cores + ('Preto', 'laranja')\n",
        "print(AddCores)\n"
      ],
      "metadata": {
        "id": "TdRLrGUoyaHa",
        "colab": {
          "base_uri": "https://localhost:8080/"
        },
        "outputId": "49c8b422-8e39-4e29-a8c1-d889c066670d"
      },
      "execution_count": null,
      "outputs": [
        {
          "output_type": "stream",
          "name": "stdout",
          "text": [
            "('vermelho', 'azul', 'verde', 'amarelo')\n",
            "('vermelho', 'azul', 'verde', 'amarelo', 'Preto', 'laranja')\n"
          ]
        }
      ]
    },
    {
      "cell_type": "markdown",
      "source": [
        "##Exercício 3: Dicionários Simples\n",
        "\n",
        "Crie um dicionário para representar um aluno, contendo \"nome\", \"idade\" e \"curso\".\n",
        "- Atualize a idade do aluno.\n",
        "- Adicione uma nova chave \"nota\" com um valor.\n",
        "- Imprima o dicionário atualizado"
      ],
      "metadata": {
        "id": "5eLz2Zvvygej"
      }
    },
    {
      "cell_type": "code",
      "source": [
        "# seu código aqui...\n",
        "Aluno = {\n",
        "    \"Nome\": \"Leonardo\",\n",
        "    \"Idade\": 15,\n",
        "    \"Curso\": \"Infórmatica\"\n",
        "}\n",
        "print(Aluno)\n",
        "Aluno[\"Idade\"] = int(input(\"Digite a nova idade: \"))\n",
        "print(Aluno)\n",
        "Aluno[\"Nota\"] = 10\n",
        "print(Aluno)"
      ],
      "metadata": {
        "id": "g3w1JYkIy1fy",
        "colab": {
          "base_uri": "https://localhost:8080/"
        },
        "outputId": "55cc93c4-d6c0-4b3b-9569-c72d6f9519c8"
      },
      "execution_count": null,
      "outputs": [
        {
          "output_type": "stream",
          "name": "stdout",
          "text": [
            "{'Nome': 'Leonardo', 'Idade': 15, 'Curso': 'Infórmatica'}\n",
            "Digite a nova idade: 16\n",
            "{'Nome': 'Leonardo', 'Idade': 16, 'Curso': 'Infórmatica'}\n",
            "{'Nome': 'Leonardo', 'Idade': 16, 'Curso': 'Infórmatica', 'Nota': 10}\n"
          ]
        }
      ]
    },
    {
      "cell_type": "markdown",
      "source": [
        "##Exercício 4: Listas e Dicionários\n",
        "\n",
        "- Crie uma lista de dicionários, onde cada dicionário representa um produto com as chaves \"nome\" e \"preço\".\n",
        "- Adicione um novo produto à lista.\n",
        "- Atualize o preço do primeiro produto na lista.\n",
        "- Imprima a lista resultante."
      ],
      "metadata": {
        "id": "6IhHbYV3y7ES"
      }
    },
    {
      "cell_type": "code",
      "source": [
        "# seu código aqui...\n",
        "produtos = [\n",
        "    {\"nome\": \"Camisa\", \"preço\": 50}\n",
        "]\n",
        "print(produtos)\n",
        "\n",
        "produtos.append({\"nome\": \"Boné\", \"preço\": 30})\n",
        "\n",
        "produtos[0][\"preço\"] = 55\n",
        "print(produtos)\n",
        "\n"
      ],
      "metadata": {
        "id": "OgnFiZ2qzGAD",
        "colab": {
          "base_uri": "https://localhost:8080/"
        },
        "outputId": "745f899f-c148-499b-c96d-d6b1a212280d"
      },
      "execution_count": null,
      "outputs": [
        {
          "output_type": "stream",
          "name": "stdout",
          "text": [
            "[{'nome': 'Camisa', 'preço': 50}]\n",
            "[{'nome': 'Camisa', 'preço': 55}, {'nome': 'Boné', 'preço': 30}]\n"
          ]
        }
      ]
    },
    {
      "cell_type": "markdown",
      "source": [
        "##Exercício 5: Analisando uma Lista de Tuplas\n",
        "\n",
        "- Crie uma lista de tuplas, onde cada tupla contém um par (nome, idade).\n",
        "- Encontre e imprima o nome da pessoa mais velha.\n",
        "- Encontre e imprima a idade média das pessoas."
      ],
      "metadata": {
        "id": "KtVatd9TzJRC"
      }
    },
    {
      "cell_type": "code",
      "source": [
        "# seu código aqui...\n",
        "pessoas = [\n",
        "    {\"nome\": \"Leonardo\", \"idade\": 15},\n",
        "    {\"nome\": \"Breno\", \"idade\": 19}\n",
        "]\n",
        "\n",
        "velha = pessoas[0]\n",
        "for pessoa in pessoas:\n",
        "    if pessoa[\"idade\"] > velha[\"idade\"]:\n",
        "        velha = pessoa\n",
        "print(velha)\n",
        "\n",
        "soma_idades = 0\n",
        "for pessoa in pessoas:\n",
        "    soma_idades += pessoa[\"idade\"]\n",
        "media_idades = soma_idades / len(pessoas)\n",
        "print(media_idades)\n"
      ],
      "metadata": {
        "id": "yLcULP8ozSHh",
        "colab": {
          "base_uri": "https://localhost:8080/"
        },
        "outputId": "a762e43b-9552-4b4a-ad8c-9b387ffcba83"
      },
      "execution_count": 4,
      "outputs": [
        {
          "output_type": "stream",
          "name": "stdout",
          "text": [
            "{'nome': 'Breno', 'idade': 19}\n",
            "17.0\n"
          ]
        }
      ]
    },
    {
      "cell_type": "markdown",
      "source": [
        "LISTA DE EXERCÍCIOS"
      ],
      "metadata": {
        "id": "W91o-QAjgGV9"
      }
    },
    {
      "cell_type": "markdown",
      "source": [
        "## 1. Soma dos Elementos da Lista\n",
        "Dada uma lista de números, calcule a soma de todos os elementos.\n",
        "\n"
      ],
      "metadata": {
        "id": "Y0oib63yaVGD"
      }
    },
    {
      "cell_type": "code",
      "source": [
        "lista = [1, 2, 3, 4, 5]\n",
        "soma = 0\n",
        "\n",
        "for numero in lista:\n",
        "    soma += numero\n",
        "print(soma)"
      ],
      "metadata": {
        "colab": {
          "base_uri": "https://localhost:8080/"
        },
        "id": "lOX4krQoaYhq",
        "outputId": "a6220520-1aaa-4f2d-bfca-a2c2ae5627bf"
      },
      "execution_count": null,
      "outputs": [
        {
          "output_type": "stream",
          "name": "stdout",
          "text": [
            "15\n"
          ]
        }
      ]
    },
    {
      "cell_type": "markdown",
      "source": [
        "## 2. Produto dos elementos da lista\n",
        "Dada uma lista de números, calcule o produto de todos os elementos."
      ],
      "metadata": {
        "id": "YZQRfHzra-eT"
      }
    },
    {
      "cell_type": "code",
      "source": [
        "# Seu código aqui...\n",
        "lista2 = [1, 2, 3, 4, 5]\n",
        "\n",
        "len(lista2)\n"
      ],
      "metadata": {
        "colab": {
          "base_uri": "https://localhost:8080/"
        },
        "id": "E6Poxc1rbDNi",
        "outputId": "f983daa8-aa1c-427d-a7af-dac04d9c1206"
      },
      "execution_count": null,
      "outputs": [
        {
          "output_type": "execute_result",
          "data": {
            "text/plain": [
              "5"
            ]
          },
          "metadata": {},
          "execution_count": 43
        }
      ]
    },
    {
      "cell_type": "markdown",
      "source": [
        "## 3. Encontre o menor elemento\n",
        "Dada uma lista de números, encontre o menor elemento."
      ],
      "metadata": {
        "id": "NoMKPHCKb0mL"
      }
    },
    {
      "cell_type": "code",
      "source": [
        "# Seu código aqui...\n",
        "lista3 = [1, 2, 3, 4, 5]\n",
        "\n",
        "min(lista3)"
      ],
      "metadata": {
        "colab": {
          "base_uri": "https://localhost:8080/"
        },
        "id": "nZMqfDc8bxbT",
        "outputId": "6f75e1b4-ae81-4f03-975d-9248badcfc1b"
      },
      "execution_count": null,
      "outputs": [
        {
          "output_type": "execute_result",
          "data": {
            "text/plain": [
              "1"
            ]
          },
          "metadata": {},
          "execution_count": 44
        }
      ]
    },
    {
      "cell_type": "markdown",
      "source": [
        "4. Encontre o maior elemento\n",
        "Dada uma lista de números, encontre o maior elemento."
      ],
      "metadata": {
        "id": "Su0Y4ZU0cIx3"
      }
    },
    {
      "cell_type": "code",
      "source": [
        "# Seu código aqui...\n",
        "lista4 = [1, 2, 3, 4, 5]\n",
        "\n",
        "max(lista4)"
      ],
      "metadata": {
        "colab": {
          "base_uri": "https://localhost:8080/"
        },
        "id": "yoI9fz5OcLcm",
        "outputId": "2196106f-3d1d-4f6b-8ebd-915d8b9f36d2"
      },
      "execution_count": null,
      "outputs": [
        {
          "output_type": "execute_result",
          "data": {
            "text/plain": [
              "5"
            ]
          },
          "metadata": {},
          "execution_count": 45
        }
      ]
    },
    {
      "cell_type": "markdown",
      "source": [
        "5. Contar Ocorrências de um Elemento\n",
        "Dada uma lista de números e um número alvo, conte quantas vezes o alvo aparece na lista."
      ],
      "metadata": {
        "id": "JzJRoD1icPp0"
      }
    },
    {
      "cell_type": "code",
      "source": [
        "# Seu código aqui...\n",
        "lista5 = [1, 2, 3, 4, 3, 2, 1]\n",
        "alvo = 3\n",
        "\n",
        "lista5.count(alvo)"
      ],
      "metadata": {
        "colab": {
          "base_uri": "https://localhost:8080/"
        },
        "id": "tndGsBijcTTg",
        "outputId": "1361acb1-3c6f-42ea-9888-cfe6cba4a37d"
      },
      "execution_count": null,
      "outputs": [
        {
          "output_type": "execute_result",
          "data": {
            "text/plain": [
              "2"
            ]
          },
          "metadata": {},
          "execution_count": 48
        }
      ]
    },
    {
      "cell_type": "markdown",
      "source": [
        "## 6. Remover duplicatas\n",
        "Dada uma lista de números, crie uma nova lista sem elementos duplicados."
      ],
      "metadata": {
        "id": "3iEVirLac4ng"
      }
    },
    {
      "cell_type": "code",
      "source": [
        "# Seu código aqui...\n",
        "lista6 = [1, 2, 2, 3, 4, 4, 5]\n",
        "\n",
        "set(lista6)"
      ],
      "metadata": {
        "colab": {
          "base_uri": "https://localhost:8080/"
        },
        "id": "kJ61r_b8c7AM",
        "outputId": "5ef08189-729b-4ced-ff0d-36576e97e80c"
      },
      "execution_count": null,
      "outputs": [
        {
          "output_type": "execute_result",
          "data": {
            "text/plain": [
              "{1, 2, 3, 4, 5}"
            ]
          },
          "metadata": {},
          "execution_count": 49
        }
      ]
    },
    {
      "cell_type": "markdown",
      "source": [
        "## 7. Inverter uma lista\n",
        "Dada uma lista de números, inverta a ordem dos elementos."
      ],
      "metadata": {
        "id": "Lt4s7O_0dyxK"
      }
    },
    {
      "cell_type": "code",
      "source": [
        "# Seu código aqui...\n",
        "lista6 = [1, 2, 3, 4, 5]\n",
        "\n",
        "lista6.reverse()\n",
        "print(lista6)"
      ],
      "metadata": {
        "colab": {
          "base_uri": "https://localhost:8080/"
        },
        "id": "LYyD08C-d5gl",
        "outputId": "51891a95-c763-42f5-db76-eca61b961864"
      },
      "execution_count": null,
      "outputs": [
        {
          "output_type": "stream",
          "name": "stdout",
          "text": [
            "[5, 4, 3, 2, 1]\n"
          ]
        }
      ]
    },
    {
      "cell_type": "markdown",
      "source": [
        "## 8. Intercalar Duas Listas\n",
        "Dadas duas listas de números, crie uma nova lista intercalando os elementos das duas listas."
      ],
      "metadata": {
        "id": "59Ds0IP4d9ML"
      }
    },
    {
      "cell_type": "code",
      "source": [
        "# Seu código aqui...\n",
        "lista81 = [1, 3, 5]\n",
        "lista82 = [2, 4, 6]\n",
        "\n",
        "lista83 = [(lista81) + (lista82)]\n",
        "print(lista83)"
      ],
      "metadata": {
        "colab": {
          "base_uri": "https://localhost:8080/"
        },
        "id": "4Uhgm7J-eBMq",
        "outputId": "8fdc87b6-5041-4546-992e-9da464961483"
      },
      "execution_count": null,
      "outputs": [
        {
          "output_type": "stream",
          "name": "stdout",
          "text": [
            "[[1, 3, 5, 2, 4, 6]]\n"
          ]
        }
      ]
    },
    {
      "cell_type": "markdown",
      "source": [
        "## 9. Somar Elementos Correspondentes de Duas Listas\n",
        "Dadas duas listas de números de mesmo tamanho, crie uma nova lista com a soma dos elementos correspondentes."
      ],
      "metadata": {
        "id": "57fbZnBAeajL"
      }
    },
    {
      "cell_type": "code",
      "source": [
        "# Seu código aqui...\n",
        "lista91 = [1, 2, 3]\n",
        "lista92 = [4, 5, 6]\n",
        "\n",
        "lista93 = [sum(lista91) + sum(lista92)]\n",
        "print(lista93)"
      ],
      "metadata": {
        "colab": {
          "base_uri": "https://localhost:8080/"
        },
        "id": "XH0vhy0-eenF",
        "outputId": "86676177-9fd7-4827-b8cc-9adf46ecd729"
      },
      "execution_count": null,
      "outputs": [
        {
          "output_type": "stream",
          "name": "stdout",
          "text": [
            "[21]\n"
          ]
        }
      ]
    },
    {
      "cell_type": "markdown",
      "source": [
        "## 10. Mover Zeros para o Fim\n",
        "Dada uma lista de números, mova todos os zeros para o final da lista."
      ],
      "metadata": {
        "id": "zcDJp-uHeuYt"
      }
    },
    {
      "cell_type": "code",
      "source": [
        "# Seu código aqui...\n",
        "lista10 = [0, 1, 0, 3, 12]\n",
        "\n",
        "# usei o sort reverse para a lista ficar em ordem decrescente\n",
        "lista10.sort(reverse=True)\n",
        "print(lista10)\n",
        "\n"
      ],
      "metadata": {
        "colab": {
          "base_uri": "https://localhost:8080/"
        },
        "id": "WAb7Cc3mezPU",
        "outputId": "73fe162f-2e1f-4014-ca21-766c96390ef2"
      },
      "execution_count": null,
      "outputs": [
        {
          "output_type": "stream",
          "name": "stdout",
          "text": [
            "[12, 3, 1, 0, 0]\n"
          ]
        }
      ]
    },
    {
      "cell_type": "markdown",
      "source": [
        "# Lista de exercícios"
      ],
      "metadata": {
        "id": "nLkvwQKdykya"
      }
    },
    {
      "cell_type": "markdown",
      "source": [
        "## 1. Soma dos Elementos da Lista\n",
        "Dada uma lista de números, calcule a soma de todos os elementos."
      ],
      "metadata": {
        "id": "b9nEDJF0wjrc"
      }
    },
    {
      "cell_type": "code",
      "execution_count": null,
      "metadata": {
        "id": "woHYcqQCwA-u"
      },
      "outputs": [],
      "source": [
        "# Seu código aqui...\n",
        "lista = [1, 2, 3, 4, 5]\n"
      ]
    },
    {
      "cell_type": "markdown",
      "source": [
        "## 2. Produto dos elementos da lista\n",
        "Dada uma lista de números, calcule o produto de todos os elementos."
      ],
      "metadata": {
        "id": "jRKcmWKiw0z8"
      }
    },
    {
      "cell_type": "code",
      "source": [
        "# Seu código aqui...\n",
        "lista2 = [1, 2, 3, 4, 5]"
      ],
      "metadata": {
        "id": "fLbEGjowwaZe"
      },
      "execution_count": null,
      "outputs": []
    },
    {
      "cell_type": "markdown",
      "source": [
        "## 3. Encontre o menor elemento\n",
        "Dada uma lista de números, encontre o menor elemento."
      ],
      "metadata": {
        "id": "-Er6OsAyxFQj"
      }
    },
    {
      "cell_type": "code",
      "source": [
        "# Seu código aqui...\n",
        "lista3 = [1, 2, 3, 4, 5]"
      ],
      "metadata": {
        "id": "KVoiJ_u0xKvc"
      },
      "execution_count": null,
      "outputs": []
    },
    {
      "cell_type": "markdown",
      "source": [
        "## 4. Encontre o maior elemento\n",
        "Dada uma lista de números, encontre o maior elemento."
      ],
      "metadata": {
        "id": "WXYaMI7FxQXk"
      }
    },
    {
      "cell_type": "code",
      "source": [
        "# Seu código aqui...\n",
        "lista4 = [1, 2, 3, 4, 5]"
      ],
      "metadata": {
        "id": "DoNhSLyuxb19"
      },
      "execution_count": null,
      "outputs": []
    },
    {
      "cell_type": "markdown",
      "source": [
        "## 5. Contar Ocorrências de um Elemento\n",
        "Dada uma lista de números e um número alvo, conte quantas vezes o alvo aparece na lista."
      ],
      "metadata": {
        "id": "BkHVHCiPxgTs"
      }
    },
    {
      "cell_type": "code",
      "source": [
        "# Seu código aqui...\n",
        "lista5 = [1, 2, 3, 4, 3, 2, 1]"
      ],
      "metadata": {
        "id": "Hreq56gixmYC"
      },
      "execution_count": null,
      "outputs": []
    },
    {
      "cell_type": "markdown",
      "source": [
        "## 6. Remover duplicatas\n",
        "Dada uma lista de números, crie uma nova lista sem elementos duplicados."
      ],
      "metadata": {
        "id": "zSsy12F-xrVT"
      }
    },
    {
      "cell_type": "code",
      "source": [
        "# Seu código aqui...\n",
        "lista6 = [1, 2, 2, 3, 4, 4, 5]"
      ],
      "metadata": {
        "id": "9N35r8abxydM"
      },
      "execution_count": null,
      "outputs": []
    },
    {
      "cell_type": "markdown",
      "source": [
        "## 7. Inverter uma lista\n",
        "Dada uma lista de números, inverta a ordem dos elementos."
      ],
      "metadata": {
        "id": "Ev1YAUF9x3o8"
      }
    },
    {
      "cell_type": "code",
      "source": [
        "# Seu código aqui...\n",
        "lista6 = [1, 2, 3, 4, 5]"
      ],
      "metadata": {
        "id": "X8YLy9uqx9kz"
      },
      "execution_count": null,
      "outputs": []
    },
    {
      "cell_type": "markdown",
      "source": [
        "## 8. Intercalar Duas Listas\n",
        "Dadas duas listas de números, crie uma nova lista intercalando os elementos das duas listas."
      ],
      "metadata": {
        "id": "1k2bPDTPyB-L"
      }
    },
    {
      "cell_type": "code",
      "source": [
        "# Seu código aqui...\n",
        "lista81 = [1, 3, 5]\n",
        "lista82 = [2, 4, 6]"
      ],
      "metadata": {
        "id": "TXajIrGxyH3j"
      },
      "execution_count": null,
      "outputs": []
    },
    {
      "cell_type": "markdown",
      "source": [
        "## 9. Somar Elementos Correspondentes de Duas Listas\n",
        "Dadas duas listas de números de mesmo tamanho, crie uma nova lista com a soma dos elementos correspondentes."
      ],
      "metadata": {
        "id": "ewiPtV9MyP1q"
      }
    },
    {
      "cell_type": "code",
      "source": [
        "# Seu código aqui...\n",
        "lista91 = [1, 2, 3]\n",
        "lista92 = [4, 5, 6]"
      ],
      "metadata": {
        "id": "0-4qe89uyVWT",
        "colab": {
          "base_uri": "https://localhost:8080/"
        },
        "outputId": "d12d654b-ebc6-4b5a-80ef-ccf2b6e7cdf5"
      },
      "execution_count": null,
      "outputs": [
        {
          "output_type": "stream",
          "name": "stdout",
          "text": [
            "[[1, 2, 3, 4, 5, 6]]\n"
          ]
        }
      ]
    },
    {
      "cell_type": "markdown",
      "source": [
        "## 10. Mover Zeros para o Fim\n",
        "Dada uma lista de números, mova todos os zeros para o final da lista."
      ],
      "metadata": {
        "id": "QX-QkQg5ybQa"
      }
    },
    {
      "cell_type": "code",
      "source": [
        "# Seu código aqui...\n",
        "lista10 = [0, 1, 0, 3, 12]"
      ],
      "metadata": {
        "id": "i8jHZT30ygD6"
      },
      "execution_count": null,
      "outputs": []
    }
  ]
}