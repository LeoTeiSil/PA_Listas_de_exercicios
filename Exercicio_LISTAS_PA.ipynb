{
  "nbformat": 4,
  "nbformat_minor": 0,
  "metadata": {
    "colab": {
      "provenance": [],
      "include_colab_link": true
    },
    "kernelspec": {
      "name": "python3",
      "display_name": "Python 3"
    },
    "language_info": {
      "name": "python"
    }
  },
  "cells": [
    {
      "cell_type": "markdown",
      "metadata": {
        "id": "view-in-github",
        "colab_type": "text"
      },
      "source": [
        "<a href=\"https://colab.research.google.com/github/LeoTeiSil/PA_Listas_de_exercicios/blob/main/Exercicio_LISTAS_PA.ipynb\" target=\"_parent\"><img src=\"https://colab.research.google.com/assets/colab-badge.svg\" alt=\"Open In Colab\"/></a>"
      ]
    },
    {
      "cell_type": "markdown",
      "source": [
        "# **Exercícios utilizando Listas Python**"
      ],
      "metadata": {
        "id": "Fv1r44TLwVKM"
      }
    },
    {
      "cell_type": "markdown",
      "source": [
        "1 Escreva um programa que calcule a soma de todos os elementos em uma lista de números, mostre o maior e o menor numero e o comprimento da lista."
      ],
      "metadata": {
        "id": "DfIb87rDV3BY"
      }
    },
    {
      "cell_type": "code",
      "source": [
        "numeros =  input(\"Por favor, insira os números separados por espaços: \")\n",
        "numeros = numeros.split()\n",
        "\n",
        "numeros = [int(x) for x in numeros]\n",
        "\n",
        "\n",
        "print(\"A soma da lista é\",sum(numeros))\n",
        "print(\"O menor número\",min(numeros))\n",
        "print(\"O maior número\",max(numeros))\n",
        "print(\"O comprimento\",len(numeros))"
      ],
      "metadata": {
        "colab": {
          "base_uri": "https://localhost:8080/"
        },
        "id": "Spb4ScdlV4km",
        "outputId": "b3d891a1-bdec-4a2f-da34-0c5c52384e69"
      },
      "execution_count": null,
      "outputs": [
        {
          "output_type": "stream",
          "name": "stdout",
          "text": [
            "Por favor, insira os números separados por espaços: 10 20 30 40\n",
            "A soma da lista é 100\n",
            "O menor número 10\n",
            "O maior número 40\n",
            "O comprimento 4\n"
          ]
        }
      ]
    },
    {
      "cell_type": "markdown",
      "source": [
        "2 Faça o calculo de média do exercicio anterior. Não esqueça de usar as funções."
      ],
      "metadata": {
        "id": "tMtdmLR-YyzM"
      }
    },
    {
      "cell_type": "code",
      "source": [
        "numeros =  input(\"Por favor, insira os números separados por espaços: \")\n",
        "numeros = numeros.split()\n",
        "\n",
        "numeros = [int(x) for x in numeros]\n",
        "\n",
        "soma = sum(numeros)\n",
        "div = len(numeros)\n",
        "\n",
        "media = soma/div\n",
        "\n",
        "print(\"A média da lista é\", media)"
      ],
      "metadata": {
        "colab": {
          "base_uri": "https://localhost:8080/"
        },
        "id": "Yq1L3F_UYzl2",
        "outputId": "a0b260e7-c698-43ff-c60d-dde057eebc4c"
      },
      "execution_count": null,
      "outputs": [
        {
          "output_type": "stream",
          "name": "stdout",
          "text": [
            "Por favor, insira os números separados por espaços: 10 20 30 40\n",
            "A média da lista é 25.0\n"
          ]
        }
      ]
    },
    {
      "cell_type": "markdown",
      "source": [
        "Crie um dicionário que represente as informações de uma pessoa, como nome, idade e cidade."
      ],
      "metadata": {
        "id": "b3URLPqpZY3L"
      }
    },
    {
      "cell_type": "code",
      "source": [
        "info = {\"nome\": \"Leonardo\", \"idade\": \"15\", \"cidade\": \"Mauá\"}\n",
        "print(info)"
      ],
      "metadata": {
        "colab": {
          "base_uri": "https://localhost:8080/"
        },
        "id": "ogThnPhuZc65",
        "outputId": "31835852-50f4-4fce-81b4-ae2986f9473a"
      },
      "execution_count": null,
      "outputs": [
        {
          "output_type": "stream",
          "name": "stdout",
          "text": [
            "{'nome': 'Leonardo', 'idade': '15', 'cidade': 'Mauá'}\n"
          ]
        }
      ]
    },
    {
      "cell_type": "markdown",
      "source": [
        "Acesse e exiba os valores individuais do dicionário criado no exercício 1.\n"
      ],
      "metadata": {
        "id": "gD-hqM2HZYz0"
      }
    },
    {
      "cell_type": "code",
      "source": [
        "numeros = (10,20,30,40)\n",
        "\n",
        "print(numeros[0])\n",
        "print(numeros[1])\n",
        "print(numeros[2])\n",
        "print(numeros[3])"
      ],
      "metadata": {
        "colab": {
          "base_uri": "https://localhost:8080/"
        },
        "id": "zRIUZgt_adWU",
        "outputId": "d7098bfe-071d-47f1-926e-84c1c778cc3e"
      },
      "execution_count": null,
      "outputs": [
        {
          "output_type": "stream",
          "name": "stdout",
          "text": [
            "10\n",
            "20\n",
            "30\n",
            "40\n"
          ]
        }
      ]
    },
    {
      "cell_type": "markdown",
      "source": [
        "Modifique o valor da idade no dicionário criado no exercício 1 para refletir uma idade diferente.\n"
      ],
      "metadata": {
        "id": "jj4dNKqKdjFk"
      }
    },
    {
      "cell_type": "code",
      "source": [
        "info = {\"nome\": \"Leonardo\", \"idade\": \"15\", \"cidade\": \"Mauá\"}\n",
        "print(info)\n",
        "\n",
        "info[\"idade\"] = 18\n",
        "print(info)"
      ],
      "metadata": {
        "colab": {
          "base_uri": "https://localhost:8080/"
        },
        "id": "IpIhFvXNfYVr",
        "outputId": "28f2975e-e0f6-42bf-9e25-aee1a0e8f8c4"
      },
      "execution_count": null,
      "outputs": [
        {
          "output_type": "stream",
          "name": "stdout",
          "text": [
            "{'nome': 'Leonardo', 'idade': '15', 'cidade': 'Mauá'}\n",
            "{'nome': 'Leonardo', 'idade': 18, 'cidade': 'Mauá'}\n"
          ]
        }
      ]
    },
    {
      "cell_type": "markdown",
      "source": [
        "Adicione um novo par chave-valor ao dicionário criado no exercício 1 para representar a profissão da pessoa.\n"
      ],
      "metadata": {
        "id": "-MCz1JlMf8Tr"
      }
    },
    {
      "cell_type": "code",
      "source": [
        "info = {\"nome\": \"Leonardo\", \"idade\": \"15\", \"cidade\": \"Mauá\"}\n",
        "print(info)\n",
        "info [\"Profissão\"] = \"Programador\"\n",
        "print(info)\n"
      ],
      "metadata": {
        "colab": {
          "base_uri": "https://localhost:8080/"
        },
        "id": "o4mkti0Xf89U",
        "outputId": "f9b037ac-0ac0-49e2-89d6-2558b0e2241a"
      },
      "execution_count": null,
      "outputs": [
        {
          "output_type": "stream",
          "name": "stdout",
          "text": [
            "{'nome': 'Leonardo', 'idade': '15', 'cidade': 'Mauá'}\n",
            "{'nome': 'Leonardo', 'idade': '15', 'cidade': 'Mauá', 'Profissão': 'Programador'}\n"
          ]
        }
      ]
    },
    {
      "cell_type": "markdown",
      "source": [
        "Remova a informação da cidade do dicionário criado no exercício 1.\n"
      ],
      "metadata": {
        "id": "FmqFKkF5f8Qg"
      }
    },
    {
      "cell_type": "code",
      "source": [
        "info = {\"nome\": \"Leonardo\", \"idade\": \"15\", \"cidade\": \"Mauá\"}\n",
        "print(info)\n",
        "\n",
        "info2 = info.pop(\"cidade\", \"Mauá\")\n",
        "print(info)\n"
      ],
      "metadata": {
        "colab": {
          "base_uri": "https://localhost:8080/"
        },
        "id": "u1BGoQ_GgXmr",
        "outputId": "db1e5ef1-6ec9-4151-98fa-8aeaf89a0bc9"
      },
      "execution_count": null,
      "outputs": [
        {
          "output_type": "stream",
          "name": "stdout",
          "text": [
            "{'nome': 'Leonardo', 'idade': '15', 'cidade': 'Mauá'}\n",
            "{'nome': 'Leonardo', 'idade': '15'}\n"
          ]
        }
      ]
    },
    {
      "cell_type": "markdown",
      "source": [
        "# Lista de exercícios"
      ],
      "metadata": {
        "id": "nLkvwQKdykya"
      }
    },
    {
      "cell_type": "markdown",
      "source": [
        "## 1. Soma dos Elementos da Lista\n",
        "Dada uma lista de números, calcule a soma de todos os elementos."
      ],
      "metadata": {
        "id": "b9nEDJF0wjrc"
      }
    },
    {
      "cell_type": "code",
      "execution_count": null,
      "metadata": {
        "id": "woHYcqQCwA-u"
      },
      "outputs": [],
      "source": [
        "# Seu código aqui...\n",
        "lista = [1, 2, 3, 4, 5]\n"
      ]
    },
    {
      "cell_type": "markdown",
      "source": [
        "## 2. Produto dos elementos da lista\n",
        "Dada uma lista de números, calcule o produto de todos os elementos."
      ],
      "metadata": {
        "id": "jRKcmWKiw0z8"
      }
    },
    {
      "cell_type": "code",
      "source": [
        "# Seu código aqui...\n",
        "lista2 = [1, 2, 3, 4, 5]"
      ],
      "metadata": {
        "id": "fLbEGjowwaZe"
      },
      "execution_count": null,
      "outputs": []
    },
    {
      "cell_type": "markdown",
      "source": [
        "## 3. Encontre o menor elemento\n",
        "Dada uma lista de números, encontre o menor elemento."
      ],
      "metadata": {
        "id": "-Er6OsAyxFQj"
      }
    },
    {
      "cell_type": "code",
      "source": [
        "# Seu código aqui...\n",
        "lista3 = [1, 2, 3, 4, 5]"
      ],
      "metadata": {
        "id": "KVoiJ_u0xKvc"
      },
      "execution_count": null,
      "outputs": []
    },
    {
      "cell_type": "markdown",
      "source": [
        "## 4. Encontre o maior elemento\n",
        "Dada uma lista de números, encontre o maior elemento."
      ],
      "metadata": {
        "id": "WXYaMI7FxQXk"
      }
    },
    {
      "cell_type": "code",
      "source": [
        "# Seu código aqui...\n",
        "lista4 = [1, 2, 3, 4, 5]"
      ],
      "metadata": {
        "id": "DoNhSLyuxb19"
      },
      "execution_count": null,
      "outputs": []
    },
    {
      "cell_type": "markdown",
      "source": [
        "## 5. Contar Ocorrências de um Elemento\n",
        "Dada uma lista de números e um número alvo, conte quantas vezes o alvo aparece na lista."
      ],
      "metadata": {
        "id": "BkHVHCiPxgTs"
      }
    },
    {
      "cell_type": "code",
      "source": [
        "# Seu código aqui...\n",
        "lista5 = [1, 2, 3, 4, 3, 2, 1]"
      ],
      "metadata": {
        "id": "Hreq56gixmYC"
      },
      "execution_count": null,
      "outputs": []
    },
    {
      "cell_type": "markdown",
      "source": [
        "## 6. Remover duplicatas\n",
        "Dada uma lista de números, crie uma nova lista sem elementos duplicados."
      ],
      "metadata": {
        "id": "zSsy12F-xrVT"
      }
    },
    {
      "cell_type": "code",
      "source": [
        "# Seu código aqui...\n",
        "lista6 = [1, 2, 2, 3, 4, 4, 5]"
      ],
      "metadata": {
        "id": "9N35r8abxydM"
      },
      "execution_count": null,
      "outputs": []
    },
    {
      "cell_type": "markdown",
      "source": [
        "## 7. Inverter uma lista\n",
        "Dada uma lista de números, inverta a ordem dos elementos."
      ],
      "metadata": {
        "id": "Ev1YAUF9x3o8"
      }
    },
    {
      "cell_type": "code",
      "source": [
        "# Seu código aqui...\n",
        "lista6 = [1, 2, 3, 4, 5]"
      ],
      "metadata": {
        "id": "X8YLy9uqx9kz"
      },
      "execution_count": null,
      "outputs": []
    },
    {
      "cell_type": "markdown",
      "source": [
        "## 8. Intercalar Duas Listas\n",
        "Dadas duas listas de números, crie uma nova lista intercalando os elementos das duas listas."
      ],
      "metadata": {
        "id": "1k2bPDTPyB-L"
      }
    },
    {
      "cell_type": "code",
      "source": [
        "# Seu código aqui...\n",
        "lista81 = [1, 3, 5]\n",
        "lista82 = [2, 4, 6]"
      ],
      "metadata": {
        "id": "TXajIrGxyH3j"
      },
      "execution_count": null,
      "outputs": []
    },
    {
      "cell_type": "markdown",
      "source": [
        "## 9. Somar Elementos Correspondentes de Duas Listas\n",
        "Dadas duas listas de números de mesmo tamanho, crie uma nova lista com a soma dos elementos correspondentes."
      ],
      "metadata": {
        "id": "ewiPtV9MyP1q"
      }
    },
    {
      "cell_type": "code",
      "source": [
        "# Seu código aqui...\n",
        "lista91 = [1, 2, 3]\n",
        "lista92 = [4, 5, 6]"
      ],
      "metadata": {
        "id": "0-4qe89uyVWT",
        "colab": {
          "base_uri": "https://localhost:8080/"
        },
        "outputId": "d12d654b-ebc6-4b5a-80ef-ccf2b6e7cdf5"
      },
      "execution_count": null,
      "outputs": [
        {
          "output_type": "stream",
          "name": "stdout",
          "text": [
            "[[1, 2, 3, 4, 5, 6]]\n"
          ]
        }
      ]
    },
    {
      "cell_type": "markdown",
      "source": [
        "## 10. Mover Zeros para o Fim\n",
        "Dada uma lista de números, mova todos os zeros para o final da lista."
      ],
      "metadata": {
        "id": "QX-QkQg5ybQa"
      }
    },
    {
      "cell_type": "code",
      "source": [
        "# Seu código aqui...\n",
        "lista10 = [0, 1, 0, 3, 12]"
      ],
      "metadata": {
        "id": "i8jHZT30ygD6"
      },
      "execution_count": null,
      "outputs": []
    }
  ]
}