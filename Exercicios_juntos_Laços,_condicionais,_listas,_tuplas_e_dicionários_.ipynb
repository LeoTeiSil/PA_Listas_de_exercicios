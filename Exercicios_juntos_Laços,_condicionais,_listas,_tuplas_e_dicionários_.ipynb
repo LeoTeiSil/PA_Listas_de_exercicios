{
  "nbformat": 4,
  "nbformat_minor": 0,
  "metadata": {
    "colab": {
      "provenance": [],
      "include_colab_link": true
    },
    "kernelspec": {
      "name": "python3",
      "display_name": "Python 3"
    },
    "language_info": {
      "name": "python"
    }
  },
  "cells": [
    {
      "cell_type": "markdown",
      "metadata": {
        "id": "view-in-github",
        "colab_type": "text"
      },
      "source": [
        "<a href=\"https://colab.research.google.com/github/LeoTeiSil/PA_Listas_de_exercicios/blob/main/Exercicios_juntos_La%C3%A7os%2C_condicionais%2C_listas%2C_tuplas_e_dicion%C3%A1rios_.ipynb\" target=\"_parent\"><img src=\"https://colab.research.google.com/assets/colab-badge.svg\" alt=\"Open In Colab\"/></a>"
      ]
    },
    {
      "cell_type": "markdown",
      "source": [
        "Lista de Exercícios unindo tudo que foi ensinado até o momento:\n",
        "\n",
        "\n",
        "*   Condicionais\n",
        "*   Laços de Reptição\n",
        "*   Listas\n",
        "*   Tuplas\n",
        "*   Dicionários\n",
        "*   Manipulação de Strings\n",
        "\n",
        "\n",
        "\n",
        "\n",
        "\n"
      ],
      "metadata": {
        "id": "JsFcwNObBRcd"
      }
    },
    {
      "cell_type": "markdown",
      "source": [
        "# EXERCÍCIOS"
      ],
      "metadata": {
        "id": "alyrqUJst2B7"
      }
    },
    {
      "cell_type": "code",
      "source": [
        "# 1 - Use o método len para imprimir o comprimento da string.\n",
        "x = \"Hello World\"\n",
        "print(len(x))"
      ],
      "metadata": {
        "id": "VaXue1uMuGtE",
        "colab": {
          "base_uri": "https://localhost:8080/"
        },
        "outputId": "22c53494-0b8c-4cd8-8af9-58024366505e"
      },
      "execution_count": null,
      "outputs": [
        {
          "output_type": "stream",
          "name": "stdout",
          "text": [
            "11\n"
          ]
        }
      ]
    },
    {
      "cell_type": "code",
      "source": [
        "# 2 - Obtenha o primeiro caractere da string txt.\n",
        "txt = \"Hello World\"\n",
        "x = txt[0]\n",
        "print(x)"
      ],
      "metadata": {
        "id": "hE23s19XuT9V",
        "colab": {
          "base_uri": "https://localhost:8080/"
        },
        "outputId": "3b16a88d-6439-4bda-8f78-2cc4624fae92"
      },
      "execution_count": null,
      "outputs": [
        {
          "output_type": "stream",
          "name": "stdout",
          "text": [
            "H\n"
          ]
        }
      ]
    },
    {
      "cell_type": "code",
      "source": [
        "# 3 - Obtenha os caracteres do índice 2 ao índice 4 ( llo).\n",
        "txt = \"Hello World\"\n",
        "txt[::4]"
      ],
      "metadata": {
        "id": "u5G2G2Icuh_5",
        "colab": {
          "base_uri": "https://localhost:8080/",
          "height": 35
        },
        "outputId": "72cd0ccd-8efe-4958-bf1b-5b6f20b3cf53"
      },
      "execution_count": null,
      "outputs": [
        {
          "output_type": "execute_result",
          "data": {
            "text/plain": [
              "'Hor'"
            ],
            "application/vnd.google.colaboratory.intrinsic+json": {
              "type": "string"
            }
          },
          "metadata": {},
          "execution_count": 94
        }
      ]
    },
    {
      "cell_type": "code",
      "source": [
        "# 4 - Converta o valor de txt para maiúsculas.\n",
        "txt = \"Hello World\"\n",
        "txt.upper()"
      ],
      "metadata": {
        "id": "i_QREABlusUY",
        "colab": {
          "base_uri": "https://localhost:8080/",
          "height": 35
        },
        "outputId": "ccda3cee-fd27-4976-8376-8a8c55c41d34"
      },
      "execution_count": null,
      "outputs": [
        {
          "output_type": "execute_result",
          "data": {
            "text/plain": [
              "'HELLO WORLD'"
            ],
            "application/vnd.google.colaboratory.intrinsic+json": {
              "type": "string"
            }
          },
          "metadata": {},
          "execution_count": 97
        }
      ]
    },
    {
      "cell_type": "code",
      "source": [
        "# 5 - Conte quantas vezes aparece a palavra \"de\" na string abaixo\n",
        "txt = \"Eu gosto de vijar, tomar vinho, de estudar estudar programação, de estudar Pyhon\"\n",
        "\n",
        "txt.count(\"a\")"
      ],
      "metadata": {
        "id": "nVC1pSwq2PDH",
        "colab": {
          "base_uri": "https://localhost:8080/"
        },
        "outputId": "c6d63554-1db3-45aa-eb09-adc553748d77"
      },
      "execution_count": null,
      "outputs": [
        {
          "output_type": "execute_result",
          "data": {
            "text/plain": [
              "7"
            ]
          },
          "metadata": {},
          "execution_count": 100
        }
      ]
    },
    {
      "cell_type": "code",
      "source": [
        "# 6 - Separe a frase abaixo toda vez que encontrar um vírgula\n",
        "txt = \"Eu gosto de vijar, \\ntomar vinho, \\nde estudar estudar programação, \\nde estudar Pyhon\"\n",
        "\n",
        "print(txt)\n"
      ],
      "metadata": {
        "id": "tkUBrdQH3OUR",
        "colab": {
          "base_uri": "https://localhost:8080/"
        },
        "outputId": "871b0a58-946b-4aab-e36c-3c9cfae34a0a"
      },
      "execution_count": null,
      "outputs": [
        {
          "output_type": "stream",
          "name": "stdout",
          "text": [
            "Eu gosto de vijar, \n",
            "tomar vinho, \n",
            "de estudar estudar programação, \n",
            "de estudar Pyhon\n"
          ]
        }
      ]
    },
    {
      "cell_type": "code",
      "source": [
        "#7 - Peça ao usuário uma frase e substitua todas as ocorrências de espaço por “#”.\n",
        "\n",
        "frase = input()\n",
        "\n",
        "\n",
        "frase.replace(\" \", \"#\")"
      ],
      "metadata": {
        "id": "WZn4Jk5OtYaV",
        "colab": {
          "base_uri": "https://localhost:8080/",
          "height": 53
        },
        "outputId": "8c7686ba-94bd-4462-aa13-d6d76822929a"
      },
      "execution_count": null,
      "outputs": [
        {
          "name": "stdout",
          "output_type": "stream",
          "text": [
            "eu estou na etec\n"
          ]
        },
        {
          "output_type": "execute_result",
          "data": {
            "text/plain": [
              "'eu#estou#na#etec'"
            ],
            "application/vnd.google.colaboratory.intrinsic+json": {
              "type": "string"
            }
          },
          "metadata": {},
          "execution_count": 118
        }
      ]
    },
    {
      "cell_type": "code",
      "source": [
        "# 8 - Faça um programa que retorne True se duas strings lidas do teclado são palíndromas mútuas, ou seja, se uma é igual à outra quando lida de traz para frente ou False, se não forem.\n",
        "# Por exemplo: amor e roma\n",
        "frase = input()\n",
        "frase2 = input()\n",
        "\n",
        "frase == frase2[::-1]"
      ],
      "metadata": {
        "id": "xMzTvD-StfcV",
        "colab": {
          "base_uri": "https://localhost:8080/"
        },
        "outputId": "e1ef89ea-3cac-4806-ef26-9301707260c6"
      },
      "execution_count": null,
      "outputs": [
        {
          "name": "stdout",
          "output_type": "stream",
          "text": [
            "leo\n",
            "murilo\n"
          ]
        },
        {
          "output_type": "execute_result",
          "data": {
            "text/plain": [
              "False"
            ]
          },
          "metadata": {},
          "execution_count": 123
        }
      ]
    },
    {
      "cell_type": "code",
      "source": [
        "# 9- Faça um programa que leia o nome do usuário e mostre o nome de traz para frente, utilizando somente letras maiúsculas."
      ],
      "metadata": {
        "id": "Q-VT1F6StorW"
      },
      "execution_count": null,
      "outputs": []
    },
    {
      "cell_type": "code",
      "source": [
        "nome = input()[::-1].upper()\n",
        "nome.upper()\n",
        "print(nome)"
      ],
      "metadata": {
        "colab": {
          "base_uri": "https://localhost:8080/"
        },
        "id": "pUgg6u0ovp2w",
        "outputId": "3426ece5-0c3f-4506-c51c-0dbda7c14f0d"
      },
      "execution_count": null,
      "outputs": [
        {
          "output_type": "stream",
          "name": "stdout",
          "text": [
            "leo\n",
            "OEL\n"
          ]
        }
      ]
    },
    {
      "cell_type": "markdown",
      "source": [
        "# Exercicios_juntos_Laços,_condicionais,_listas,_tuplas_e_dicionários_.ipynb"
      ],
      "metadata": {
        "id": "v0Z_cH0CHF5z"
      }
    },
    {
      "cell_type": "markdown",
      "source": [
        "# Tuplas - Acesso e Desempacotamento\n",
        "\n",
        "1) Crie uma tupla contendo três tipos diferentes de dados: um número, uma string e uma lista. Use um laço de repetição para acessar e imprimir cada item da tupla. Além disso, dentro do laço, acesse e imprima o segundo item da lista que está dentro da tupla."
      ],
      "metadata": {
        "id": "HM91bKpkBqGI"
      }
    },
    {
      "cell_type": "code",
      "source": [
        "dados = (24, \"Cíntia\",[1,2,3])\n",
        "\n",
        "for i in dados:\n",
        "  print(i)"
      ],
      "metadata": {
        "colab": {
          "base_uri": "https://localhost:8080/"
        },
        "id": "sCbCOqPVYeRv",
        "outputId": "bdf29751-b2a8-4683-8d11-33f74fd9b464"
      },
      "execution_count": null,
      "outputs": [
        {
          "output_type": "stream",
          "name": "stdout",
          "text": [
            "24\n",
            "Cíntia\n",
            "[1, 2, 3]\n"
          ]
        }
      ]
    },
    {
      "cell_type": "code",
      "source": [
        "dados2 = (16, \"Leonardo\", [3,0,1,0])\n",
        "\n",
        "for i in dados2:\n",
        "  print(i)\n",
        "print(\"Segundo item é\", dados[2])"
      ],
      "metadata": {
        "colab": {
          "base_uri": "https://localhost:8080/"
        },
        "id": "pZ8TJ7EFYsjg",
        "outputId": "76acac39-698d-4933-e288-ac0fd95c4005"
      },
      "execution_count": null,
      "outputs": [
        {
          "output_type": "stream",
          "name": "stdout",
          "text": [
            "16\n",
            "Leonardo\n",
            "[3, 0, 1, 0]\n",
            "Segundo item é [1, 2, 3]\n"
          ]
        }
      ]
    },
    {
      "cell_type": "markdown",
      "source": [
        "# Dicionários - Criação e Acesso\n",
        "## Cadastro de Pessoas e Análise de Alturas\n",
        "2) Solicite ao usuário para inserir o nome e a altura de várias pessoas. Preencha um dicionário com essas informações e depois encontre e imprima o nome e a altura da pessoa mais alta e da mais baixa."
      ],
      "metadata": {
        "id": "6vEHxGtjBxMi"
      }
    },
    {
      "cell_type": "code",
      "source": [
        "pessoas = {}\n",
        "\n",
        "quantidade = int(input(\"Quantidade de pessoas: \"))\n",
        "\n",
        "for _ in range(quantidade):\n",
        "    nome = input(\"Nome: \")\n",
        "    altura = float(input(\"Altura: \"))\n",
        "    pessoas[nome] = altura\n",
        "\n",
        "\n",
        "# estudar esse .items\n",
        "mais_alta = mais_baixa = list(pessoas.items())[0]\n",
        "\n",
        "for nome, altura in pessoas.items():\n",
        "    if altura > mais_alta[1]:\n",
        "        mais_alta = (nome, altura)\n",
        "    if altura < mais_baixa[1]:\n",
        "        mais_baixa = (nome, altura)\n",
        "\n",
        "print(\"Pessoa mais alta:\", mais_alta[0], mais_alta[1], \"metros\")\n",
        "print(\"Pessoa mais baixa:\", mais_baixa[0], mais_baixa[1], \"metros\")\n",
        "\n"
      ],
      "metadata": {
        "id": "MpJYauvTZR69",
        "colab": {
          "base_uri": "https://localhost:8080/"
        },
        "outputId": "ca034f99-b950-4f9f-efc1-6f38fa083dd6"
      },
      "execution_count": null,
      "outputs": [
        {
          "output_type": "stream",
          "name": "stdout",
          "text": [
            "Quantidade de pessoas: 3\n",
            "Nome: LEO\n",
            "Altura: 2.00\n",
            "Nome: BRENO\n",
            "Altura: 2.10\n",
            "Nome: GUSTAVO\n",
            "Altura: 1.90\n",
            "Pessoa mais alta: BRENO 2.1 m\n",
            "Pessoa mais baixa: GUSTAVO 1.9 m\n"
          ]
        }
      ]
    },
    {
      "cell_type": "markdown",
      "source": [
        "# Lista, laços e Condicionais\n",
        "3) Descrição: Crie uma listacom cinco números inteiros. Use um laço de repetição e uma condicional para imprimir apenas os números que são múltiplos de 3."
      ],
      "metadata": {
        "id": "FytD4QZyELAt"
      }
    },
    {
      "cell_type": "code",
      "source": [
        "numeros = [10, 15, 23, 9, 30, 18, 33]\n",
        "\n",
        "for numero in numeros:\n",
        "    if numero % 3 == 0:\n",
        "        print(numero)\n"
      ],
      "metadata": {
        "colab": {
          "base_uri": "https://localhost:8080/"
        },
        "id": "awZZEDnx4Y_o",
        "outputId": "64d4064b-a82d-4be1-f0d9-a2c60c89adf1"
      },
      "execution_count": null,
      "outputs": [
        {
          "output_type": "stream",
          "name": "stdout",
          "text": [
            "15\n",
            "9\n",
            "30\n",
            "18\n",
            "33\n"
          ]
        }
      ]
    },
    {
      "cell_type": "markdown",
      "source": [
        "# Manipulação de Strings e Condicionais\n",
        "4) Descrição: Crie uma string com uma frase. Use uma condicional para verificar se a frase contém a palavra \"Python\". Se sim, substitua a palavra \"Python\" por \"programação\" e imprima a nova frase."
      ],
      "metadata": {
        "id": "hwn3Fz8aEYSH"
      }
    },
    {
      "cell_type": "code",
      "source": [
        "frase = \"Eu estou aprendendo Python e adoro programar.\"\n",
        "\n",
        "if \"Python\" in frase:\n",
        "\n",
        "    nova_frase = frase.replace(\"Python\", \"programação\")\n",
        "    print(nova_frase)\n",
        "\n",
        "else:\n",
        "    print(\"A palavra 'Python' não está na frase.\")\n"
      ],
      "metadata": {
        "colab": {
          "base_uri": "https://localhost:8080/"
        },
        "id": "c2g3rLDU5FDU",
        "outputId": "f0439831-a3f2-49c9-eb6b-f747adb85518"
      },
      "execution_count": null,
      "outputs": [
        {
          "output_type": "stream",
          "name": "stdout",
          "text": [
            "Eu estou aprendendo programação e adoro programar.\n"
          ]
        }
      ]
    },
    {
      "cell_type": "markdown",
      "source": [
        "# Simulação de Alfândega com Cadastro Dinâmico de Itens usando dicionário\n",
        "5) Simule uma situação de alfândega onde o funcionário cadastra itens novos encontrados na mala de uma pessoa que veio de uma viagem internacional. Após o cadastro de todos os itens, o programa imprime uma nota com todos os itens e seus preços, calcula o valor total e, se o valor total ultrapassar 500 dólares, calcula o valor de 60% a ser pago."
      ],
      "metadata": {
        "id": "hPP-JNTxEwFT"
      }
    },
    {
      "cell_type": "code",
      "source": [
        "alunos = []\n",
        "resultado = {\"Aprovados\": 0, \"Reprovados\": 0}\n",
        "\n",
        "quantidade_alunos = int(input(\"Quantos alunos você quer cadastrar? \"))\n",
        "\n",
        "for i in range(quantidade_alunos):\n",
        "    nome = input(\"Digite o nome do aluno: \")\n",
        "    nota = float(input(\"Digite a nota do aluno (0 a 10): \"))\n",
        "    alunos.append((nome, nota))\n",
        "\n",
        "print(\"Lista de Alunos e Notas:\")\n",
        "for aluno in alunos:\n",
        "    print(\"Aluno: \" + aluno[0] + \" - Nota: \" + str(aluno[1]))\n",
        "\n",
        "for aluno in alunos:\n",
        "    if aluno[1] >= 6:\n",
        "        resultado[\"Aprovados\"] += 1\n",
        "    else:\n",
        "        resultado[\"Reprovados\"] += 1\n",
        "\n",
        "print(\"\\nResultado Final:\")\n",
        "print(\"Aprovados: \" + str(resultado[\"Aprovados\"]))\n",
        "print(\"Reprovados: \" + str(resultado[\"Reprovados\"]))\n"
      ],
      "metadata": {
        "colab": {
          "base_uri": "https://localhost:8080/"
        },
        "id": "PDD6vSkNFxtQ",
        "outputId": "911cdea9-84fa-45e1-9a7d-3770ec1cf2a4"
      },
      "execution_count": null,
      "outputs": [
        {
          "output_type": "stream",
          "name": "stdout",
          "text": [
            "Quantos alunos você quer cadastrar? 2\n",
            "Digite o nome do aluno: leo\n",
            "Digite a nota do aluno (0 a 10): 10\n",
            "Digite o nome do aluno: murilo\n",
            "Digite a nota do aluno (0 a 10): 2\n",
            "Lista de Alunos e Notas:\n",
            "Aluno: leo - Nota: 10.0\n",
            "Aluno: murilo - Nota: 2.0\n",
            "\n",
            "Resultado Final:\n",
            "Aprovados: 1\n",
            "Reprovados: 1\n"
          ]
        }
      ]
    },
    {
      "cell_type": "markdown",
      "source": [
        "# Identificação de Palavras Negativas em um Texto\n",
        "6) Você vai criar um programa em Python para analisar um texto e identificar palavras que expressam pensamentos negativos. Para isso, você usará uma lista de palavras negativas fornecida e verificará quais dessas palavras estão presentes no texto fornecido pelo usuário. Exemplo de palavras negtivas, acrescente mais na lista: # Lista de palavras negativas palavras_negativas = ['triste', 'deprimido', 'ansioso', 'desapontado', 'frustrado']"
      ],
      "metadata": {
        "id": "OH8D047zVsp-"
      }
    },
    {
      "cell_type": "code",
      "source": [
        "palavras_negativas = ['triste', 'deprimido', 'ansioso', 'desapontado', 'frustrado',\n",
        "                      'irritado', 'solitário', 'desanimado']\n",
        "\n",
        "texto = input(\"Frase com seu humor: \")\n",
        "\n",
        "texto = texto.lower()\n",
        "\n",
        "palavras_encontradas = []\n",
        "\n",
        "for palavra in palavras_negativas:\n",
        "    if palavra in texto:\n",
        "        palavras_encontradas.append(palavra)\n",
        "\n",
        "if len(palavras_encontradas) > 0:\n",
        "    print(\"Palavras negativas encontradas: \" + \", \".join(palavras_encontradas))\n",
        "else:\n",
        "    print(\"Nenhuma palavra negativa foi encontrada.\")\n"
      ],
      "metadata": {
        "id": "xDSrYWf_Vr8G",
        "colab": {
          "base_uri": "https://localhost:8080/"
        },
        "outputId": "49e61665-bb29-40e0-bc96-28f1a8ed881f"
      },
      "execution_count": null,
      "outputs": [
        {
          "output_type": "stream",
          "name": "stdout",
          "text": [
            "Digite um texto para análise: estou triste\n",
            "Palavras negativas encontradas: triste\n"
          ]
        }
      ]
    }
  ]
}